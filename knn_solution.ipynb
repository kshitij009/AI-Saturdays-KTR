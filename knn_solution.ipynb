{
  "nbformat": 4,
  "nbformat_minor": 0,
  "metadata": {
    "colab": {
      "name": "Untitled12.ipynb",
      "version": "0.3.2",
      "provenance": []
    },
    "kernelspec": {
      "name": "python3",
      "display_name": "Python 3"
    },
    "accelerator": "GPU"
  },
  "cells": [
    {
      "metadata": {
        "id": "ChuRHQkTrg76",
        "colab_type": "code",
        "colab": {}
      },
      "cell_type": "code",
      "source": [
        "import _pickle as pickle\n",
        "import numpy as np\n",
        "import os\n",
        "import math\n",
        "\n",
        "\n",
        "# Load single batch of cifar\n",
        "def load_cifar_batch(filename):\n",
        "    with open(filename, 'rb') as f:\n",
        "        datadict = pickle.load(f, encoding='latin1')\n",
        "    return datadict['data'].astype(np.float64), np.array(datadict['labels'])\n",
        "\n",
        "\n",
        "# Load all of cifar\n",
        "def load_cifar(folder):\n",
        "    print(\"loading started\")\n",
        "    with open(os.path.join(folder, 'batches.meta'), 'rb') as f:\n",
        "        names = pickle.load(f, encoding='latin1')\n",
        "    training_data = np.empty([50000, 3072], dtype=np.float64)\n",
        "    training_labels = np.empty([50000], dtype=np.uint8)\n",
        "    for i in range(1, 6):\n",
        "        start = (i - 1) * 10000\n",
        "        end = i * 10000\n",
        "        training_data[start:end], training_labels[start:end] = \\\n",
        "            load_cifar_batch(os.path.join(folder, 'data_batch_%d' % i))\n",
        "    testing_data, testing_labels = load_cifar_batch(os.path.join(folder, 'test_batch'))\n",
        "    training_data_grayscale = training_data.reshape((50000, 3, 1024)).transpose((0, 2, 1))\n",
        "    training_data_grayscale = np.mean(training_data_grayscale, axis=2)\n",
        "    testing_data_grayscale = testing_data.reshape((10000, 3, 1024)).transpose((0, 2, 1))\n",
        "    testing_data_grayscale = np.mean(testing_data_grayscale, axis=2)\n",
        "    print(\"loading done\")\n",
        "    return training_data, training_data_grayscale, training_labels, testing_data, testing_data_grayscale,\\\n",
        "        testing_labels, names['label_names']\n",
        "\n",
        "\n",
        "# Load part of cifar for cross validation\n",
        "def load_cifar_cross_validation(folder, i):\n",
        "    td = np.empty([40000, 3072], dtype=np.float64)\n",
        "    tl = np.empty([40000], dtype=np.uint8)\n",
        "    for j in range(1, 6):\n",
        "        if i != j:\n",
        "            if j < i:\n",
        "                diff = 1\n",
        "            else:\n",
        "                diff = 2\n",
        "            start = (j - diff) * 10000\n",
        "            end = (j - diff + 1) * 10000\n",
        "            td[start:end, :], tl[start:end] = \\\n",
        "                load_cifar_batch(os.path.join(folder, 'data_batch_%d' % j))\n",
        "    vd, vl = load_cifar_batch(os.path.join(folder, 'data_batch_%d' % i))\n",
        "    return td, tl, vd, vl"
      ],
      "execution_count": 0,
      "outputs": []
    },
    {
      "metadata": {
        "id": "sLcQ5e61oB8v",
        "colab_type": "code",
        "colab": {}
      },
      "cell_type": "code",
      "source": [
        "import numpy as np"
      ],
      "execution_count": 0,
      "outputs": []
    },
    {
      "metadata": {
        "id": "qWgdFMcUoFJ8",
        "colab_type": "code",
        "colab": {}
      },
      "cell_type": "code",
      "source": [
        "a=np.ones((3,3))"
      ],
      "execution_count": 0,
      "outputs": []
    },
    {
      "metadata": {
        "id": "PO6FPigcoK_g",
        "colab_type": "code",
        "colab": {
          "base_uri": "https://localhost:8080/",
          "height": 72
        },
        "outputId": "b6231fdb-6404-434d-dad3-287012879139"
      },
      "cell_type": "code",
      "source": [
        "a"
      ],
      "execution_count": 25,
      "outputs": [
        {
          "output_type": "execute_result",
          "data": {
            "text/plain": [
              "array([[1., 1., 1.],\n",
              "       [1., 1., 1.],\n",
              "       [1., 1., 1.]])"
            ]
          },
          "metadata": {
            "tags": []
          },
          "execution_count": 25
        }
      ]
    },
    {
      "metadata": {
        "id": "wD1xciASoOGt",
        "colab_type": "code",
        "colab": {
          "base_uri": "https://localhost:8080/",
          "height": 35
        },
        "outputId": "b7344215-a04d-4a50-9b54-8835999e5841"
      },
      "cell_type": "code",
      "source": [
        "np.sum(a)"
      ],
      "execution_count": 26,
      "outputs": [
        {
          "output_type": "execute_result",
          "data": {
            "text/plain": [
              "9.0"
            ]
          },
          "metadata": {
            "tags": []
          },
          "execution_count": 26
        }
      ]
    },
    {
      "metadata": {
        "id": "_NCCYOsjsKq9",
        "colab_type": "code",
        "colab": {
          "base_uri": "https://localhost:8080/",
          "height": 237
        },
        "outputId": "9d4a495a-6934-4957-f2cb-9efe616f8f92"
      },
      "cell_type": "code",
      "source": [
        "!wget https://www.cs.toronto.edu/~kriz/cifar-10-python.tar.gz"
      ],
      "execution_count": 27,
      "outputs": [
        {
          "output_type": "stream",
          "text": [
            "--2018-08-18 10:44:35--  https://www.cs.toronto.edu/~kriz/cifar-10-python.tar.gz\r\n",
            "Resolving www.cs.toronto.edu (www.cs.toronto.edu)... 128.100.3.30\n",
            "Connecting to www.cs.toronto.edu (www.cs.toronto.edu)|128.100.3.30|:443... connected.\n",
            "HTTP request sent, awaiting response... 200 OK\n",
            "Length: 170498071 (163M) [application/x-gzip]\n",
            "Saving to: ‘cifar-10-python.tar.gz.10’\n",
            "\n",
            "cifar-10-python.tar 100%[===================>] 162.60M  17.3MB/s    in 29s     \n",
            "\n",
            "2018-08-18 10:45:05 (5.61 MB/s) - ‘cifar-10-python.tar.gz.10’ saved [170498071/170498071]\n",
            "\n"
          ],
          "name": "stdout"
        }
      ]
    },
    {
      "metadata": {
        "id": "d7CdhalNsQ1U",
        "colab_type": "code",
        "colab": {
          "base_uri": "https://localhost:8080/",
          "height": 181
        },
        "outputId": "277fe8f2-1c53-4aac-c92e-bc3fc5aa7431"
      },
      "cell_type": "code",
      "source": [
        "!tar -xvzf cifar-10-python.tar.gz"
      ],
      "execution_count": 3,
      "outputs": [
        {
          "output_type": "stream",
          "text": [
            "cifar-10-batches-py/\r\n",
            "cifar-10-batches-py/data_batch_4\n",
            "cifar-10-batches-py/readme.html\n",
            "cifar-10-batches-py/test_batch\n",
            "cifar-10-batches-py/data_batch_3\n",
            "cifar-10-batches-py/batches.meta\n",
            "cifar-10-batches-py/data_batch_2\n",
            "cifar-10-batches-py/data_batch_5\n",
            "cifar-10-batches-py/data_batch_1\n"
          ],
          "name": "stdout"
        }
      ]
    },
    {
      "metadata": {
        "id": "gP-fj7H_riYP",
        "colab_type": "code",
        "colab": {}
      },
      "cell_type": "code",
      "source": [
        "import scipy.spatial.distance as sp\n",
        "\n",
        "\n",
        "class KNN(object):\n",
        "\n",
        "    def __init__(self):\n",
        "        pass\n",
        "\n",
        "    def train(self, data, labels):\n",
        "        # data is N x D where each row is a data point. labels is 1-dimension of size N\n",
        "        # KNN classifier simply remembers all the training data\n",
        "        print(\"Insie train\")\n",
        "        self.training_data = data\n",
        "        self.training_labels = labels\n",
        "\n",
        "    def predict(self, data, k, l):\n",
        "        # data is M x D where each row is a data point, k is the number of nearest neighbours, l  is the distance metric ('L1' or 'L2')\n",
        "        # y_predict is the predicted labels of data\n",
        "        y_predict = np.zeros(data.shape[0], dtype=self.training_labels.dtype)\n",
        "        print(\"Inside predict\")\n",
        "        if l == 'L1':\n",
        "            self.l1(data, k, y_predict)\n",
        "        else:\n",
        "            self.l2(data, k, y_predict)\n",
        "        return y_predict\n",
        "\n",
        "    def l1(self, data, k, y_pred):\n",
        "        # data is M x D where each row is a data point, k is the number of nearest neighbours, y_pred is the predicted labels of data\n",
        "        # Compute Manhattan distance, distances is M x N where each row 'i' is the distances of the ith data point from the training data points\n",
        "        print(\"Inside l1\")\n",
        "        distances = sp.cdist(data, self.training_data, 'cityblock')\n",
        "        print(\"Calculating L1\")\n",
        "        for i in range(data.shape[0]):\n",
        "            # Get ith row of distances\n",
        "            curr_distance = distances[i]\n",
        "            # Get the k indexes corresponding to the lowest distances\n",
        "            min_idx = np.argpartition(curr_distance, k)[0:k]\n",
        "            # Get the votes\n",
        "            votes = self.training_labels[min_idx]\n",
        "            # Count the votes\n",
        "            labels_count = np.bincount(votes)\n",
        "            # Choose the majority vote\n",
        "            y_pred[i] = np.argmax(labels_count)\n",
        "\n",
        "    def l2(self, data, k, y_pred):\n",
        "        # data is M x D where each row is a data point, k is the number of nearest neighbours, y_pred is the predicted labels of data\n",
        "        # (a + b)^2 = a^2 + b^2 - 2ab\n",
        "        print(\"Inside l2\")\n",
        "        a_sum_square = np.sum(np.square(self.training_data), axis=1)\n",
        "        print(\"Calculated a_sum\")\n",
        "        b_sum_square = np.sum(np.square(data), axis=1)\n",
        "        print(\"Calculated b_sum\")\n",
        "        two_a_dot_bt = 2 * np.dot(self.training_data, data.T)\n",
        "        print(\"Calculated dot\")\n",
        "        # Compute Euclidean distance, distances is N xhttps://github.com/niladridutt/AI-Saturdays-KTR M where each column 'i' is the distances of the ith data point from the training data points\n",
        "        distances = np.sqrt(a_sum_square[:, np.newaxis] + b_sum_square - two_a_dot_bt)\n",
        "        for i in range(data.shape[0]):\n",
        "            # Get ith column of distances and continue operations on it as normal (get lowest k)\n",
        "            curr_distance = distances[:, i]\n",
        "            # Get the k indexes corresponding to the lowest distances\n",
        "            min_idx = np.argpartition(curr_distance, k)[0:k]\n",
        "            # Get the votes\n",
        "            votes = self.training_labels[min_idx]\n",
        "            # Count the votes\n",
        "            labels_count = np.bincount(votes)\n",
        "            # Choose the majority vote\n",
        "            y_pred[i] = np.argmax(labels_count)\n",
        "        print(\"L2 calculated\")"
      ],
      "execution_count": 0,
      "outputs": []
    },
    {
      "metadata": {
        "id": "6E7xcDt-rp8A",
        "colab_type": "code",
        "colab": {}
      },
      "cell_type": "code",
      "source": [
        "import matplotlib.pyplot as plt"
      ],
      "execution_count": 0,
      "outputs": []
    },
    {
      "metadata": {
        "id": "sFEItChlryh1",
        "colab_type": "code",
        "colab": {
          "base_uri": "https://localhost:8080/",
          "height": 54
        },
        "outputId": "b68dae8d-9d9d-46a2-fe88-ae676ecbe031"
      },
      "cell_type": "code",
      "source": [
        "%matplotlib inline\n",
        "%load_ext autoreload\n",
        "%autoreload 2"
      ],
      "execution_count": 30,
      "outputs": [
        {
          "output_type": "stream",
          "text": [
            "The autoreload extension is already loaded. To reload it, use:\n",
            "  %reload_ext autoreload\n"
          ],
          "name": "stdout"
        }
      ]
    },
    {
      "metadata": {
        "id": "t5LNZQYDr4J8",
        "colab_type": "code",
        "colab": {}
      },
      "cell_type": "code",
      "source": [
        "def plot(accuracy_per_class, accuracy, color, names):\n",
        "    print(\"Plotting\")\n",
        "    ind = np.arange(10)\n",
        "    width = 0.5\n",
        "    fig, ax = plt.subplots()\n",
        "    rects = ax.bar(ind, accuracy_per_class, width, color='b')\n",
        "    ax.set_ylabel('Accuracy')\n",
        "    ax.set_title('KNN on %s CIFAR-10 accuracy per class, average accuracy = %f' % (color, accuracy))\n",
        "    ax.set_xticks(ind)\n",
        "    ax.set_xticklabels(names, rotation='vertical')\n",
        "    plt.show()"
      ],
      "execution_count": 0,
      "outputs": []
    },
    {
      "metadata": {
        "id": "W25TSBbnr897",
        "colab_type": "code",
        "colab": {}
      },
      "cell_type": "code",
      "source": [
        "def get_accuracy(predict, yte):\n",
        "    print(\"Inside accuracy\")\n",
        "    accuracy_per_class = [0.] * 10\n",
        "    for i in range(predict.shape[0]):\n",
        "        if predict[i] == yte[i]:\n",
        "            accuracy_per_class[yte[i]] += 1.\n",
        "    for i in range(10):\n",
        "        accuracy_per_class[i] /= 1000\n",
        "    accuracy = np.sum(predict == yte) / 10000\n",
        "    return accuracy_per_class, accuracy"
      ],
      "execution_count": 0,
      "outputs": []
    },
    {
      "metadata": {
        "id": "mhQ-jmuYsAyH",
        "colab_type": "code",
        "colab": {}
      },
      "cell_type": "code",
      "source": [
        "def train_and_predict(xtr, ytr, xte, yte, k, l, color, names):\n",
        "    print(\"Process started\")\n",
        "    knn_o = KNN()\n",
        "    knn_o.train(xtr, ytr)\n",
        "    predict = knn_o.predict(xte, k, l)\n",
        "    accuracy_per_class, accuracy = get_accuracy(predict, yte)\n",
        "    plot(accuracy_per_class, accuracy, color, names)"
      ],
      "execution_count": 0,
      "outputs": []
    },
    {
      "metadata": {
        "id": "WT8JW8wBsCys",
        "colab_type": "code",
        "colab": {
          "base_uri": "https://localhost:8080/",
          "height": 537
        },
        "outputId": "f0ddeac6-c3d3-4088-a1a9-3062a81f25ff"
      },
      "cell_type": "code",
      "source": [
        "xtr, xgtr, ytr, xte, xgte, yte, names = load_cifar('cifar-10-batches-py')\n",
        "from sklearn.utils import shuffle\n",
        "xtr, ytr = shuffle(xtr, ytr, random_state=0)\n",
        "xtt,ytt=shuffle(xte,yte,random_state=0)\n",
        "xtr=xtr[:20000]\n",
        "ytr=ytr[:20000]\n",
        "xte=xte[:10000]\n",
        "yte=yte[:10000]\n",
        "# best_k and best_l from cross-validation are k=1 and L1\n",
        "best_k = 1\n",
        "best_l = 'L2'\n",
        "train_and_predict(xtr, ytr, xte, yte, best_k, best_l, 'colored', names)\n",
        "#train_and_predict(xgtr, ytr, xgte, yte, best_k, best_l, 'grayscale', names)"
      ],
      "execution_count": 34,
      "outputs": [
        {
          "output_type": "stream",
          "text": [
            "loading started\n",
            "loading done\n",
            "Process started\n",
            "Insie train\n",
            "Inside predict\n",
            "Inside l2\n",
            "Calculated a_sum\n",
            "Calculated b_sum\n",
            "Calculated dot\n",
            "L2 calculated\n",
            "Inside accuracy\n",
            "Plotting\n"
          ],
          "name": "stdout"
        },
        {
          "output_type": "display_data",
          "data": {
            "image/png": "[encoded data removed]",
            "text/plain": [
              "<matplotlib.figure.Figure at 0x7f67dfa4e160>"
            ]
          },
          "metadata": {
            "tags": []
          }
        }
      ]
    },
    {
      "metadata": {
        "id": "HooRL3BO5vE2",
        "colab_type": "text"
      },
      "cell_type": "markdown",
      "source": [
        "**Inline Question 1**\n",
        "We can also other distance metrics such as L1 distance.\n",
        "The performance of a Nearest Neighbor classifier that uses L1 distance will not change if (Select all that apply.):\n",
        "1. The data is preprocessed by subtracting the mean.\n",
        "2. The data is preprocessed by subtracting the mean and dividing by the standard deviation.\n",
        "3. The coordinate axes for the data are rotated.\n",
        "4. None of the above.\n",
        "\n",
        "*Your Answer*:\n",
        "\n",
        "*Your explanation*:\n"
      ]
    },
    {
      "metadata": {
        "id": "EwK1cLGb5ssi",
        "colab_type": "code",
        "colab": {}
      },
      "cell_type": "code",
      "source": [
        "from sklearn.svm import SVC"
      ],
      "execution_count": 0,
      "outputs": []
    },
    {
      "metadata": {
        "id": "aURzsI-18MB_",
        "colab_type": "code",
        "colab": {}
      },
      "cell_type": "code",
      "source": [
        "clf = SVC()"
      ],
      "execution_count": 0,
      "outputs": []
    },
    {
      "metadata": {
        "id": "xmX3IyP58OEa",
        "colab_type": "code",
        "colab": {
          "base_uri": "https://localhost:8080/",
          "height": 90
        },
        "outputId": "f8744d2c-1490-4ca0-c50b-b50185dac667"
      },
      "cell_type": "code",
      "source": [
        "clf.fit(xtr[:1000],ytr[:1000]) "
      ],
      "execution_count": 13,
      "outputs": [
        {
          "output_type": "execute_result",
          "data": {
            "text/plain": [
              "SVC(C=1.0, cache_size=200, class_weight=None, coef0=0.0,\n",
              "  decision_function_shape='ovr', degree=3, gamma='auto', kernel='rbf',\n",
              "  max_iter=-1, probability=False, random_state=None, shrinking=True,\n",
              "  tol=0.001, verbose=False)"
            ]
          },
          "metadata": {
            "tags": []
          },
          "execution_count": 13
        }
      ]
    },
    {
      "metadata": {
        "id": "iR6CRpoH8S0x",
        "colab_type": "code",
        "colab": {}
      },
      "cell_type": "code",
      "source": [
        "preds=clf.predict(xte[:1000])"
      ],
      "execution_count": 0,
      "outputs": []
    },
    {
      "metadata": {
        "id": "6_6OryN883fz",
        "colab_type": "code",
        "colab": {}
      },
      "cell_type": "code",
      "source": [
        "from sklearn.metrics import accuracy_score"
      ],
      "execution_count": 0,
      "outputs": []
    },
    {
      "metadata": {
        "id": "iJe8h5SW8-Bd",
        "colab_type": "code",
        "colab": {
          "base_uri": "https://localhost:8080/",
          "height": 35
        },
        "outputId": "44461e2d-ea9e-460a-908e-e02983a3402c"
      },
      "cell_type": "code",
      "source": [
        "score=accuracy_score(yte[:1000], preds)\n",
        "print(score)"
      ],
      "execution_count": 16,
      "outputs": [
        {
          "output_type": "stream",
          "text": [
            "0.103\n"
          ],
          "name": "stdout"
        }
      ]
    },
    {
      "metadata": {
        "id": "pek5EXfj9Ii5",
        "colab_type": "code",
        "colab": {
          "base_uri": "https://localhost:8080/",
          "height": 355
        },
        "outputId": "68dec34f-1588-453e-dba0-62e400e72ab3"
      },
      "cell_type": "code",
      "source": [
        "accuracy_per_class, accuracy = get_accuracy(preds, yte[:1000])\n",
        "plot(accuracy_per_class, accuracy, 'colored', names)"
      ],
      "execution_count": 17,
      "outputs": [
        {
          "output_type": "stream",
          "text": [
            "Inside accuracy\n",
            "Plotting\n"
          ],
          "name": "stdout"
        },
        {
          "output_type": "display_data",
          "data": {
            "image/png": "[encoded data removed]",
            "text/plain": [
              "<matplotlib.figure.Figure at 0x7f67dfb27898>"
            ]
          },
          "metadata": {
            "tags": []
          }
        }
      ]
    },
    {
      "metadata": {
        "id": "-hHyU8289hIw",
        "colab_type": "code",
        "colab": {
          "base_uri": "https://localhost:8080/",
          "height": 35
        },
        "outputId": "3a1f6024-1b42-4f5e-c493-43a3a8875c7f"
      },
      "cell_type": "code",
      "source": [
        "type(xtr)"
      ],
      "execution_count": 0,
      "outputs": [
        {
          "output_type": "execute_result",
          "data": {
            "text/plain": [
              "numpy.ndarray"
            ]
          },
          "metadata": {
            "tags": []
          },
          "execution_count": 31
        }
      ]
    }
  ]
}