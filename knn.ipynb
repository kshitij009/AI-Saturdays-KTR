{
  "nbformat": 4,
  "nbformat_minor": 0,
  "metadata": {
    "colab": {
      "name": "Untitled12.ipynb",
      "version": "0.3.2",
      "provenance": []
    },
    "kernelspec": {
      "name": "python3",
      "display_name": "Python 3"
    },
    "accelerator": "GPU"
  },
  "cells": [
    {
      "metadata": {
        "id": "ChuRHQkTrg76",
        "colab_type": "code",
        "colab": {}
      },
      "cell_type": "code",
      "source": [
        "import _pickle as pickle\n",
        "import numpy as np\n",
        "import os\n",
        "import math\n",
        "\n",
        "\n",
        "# Load single batch of cifar\n",
        "def load_cifar_batch(filename):\n",
        "    with open(filename, 'rb') as f:\n",
        "        datadict = pickle.load(f, encoding='latin1')\n",
        "    return datadict['data'].astype(np.float64), np.array(datadict['labels'])\n",
        "\n",
        "\n",
        "# Load all of cifar\n",
        "def load_cifar(folder):\n",
        "    print(\"loading started\")\n",
        "    with open(os.path.join(folder, 'batches.meta'), 'rb') as f:\n",
        "        names = pickle.load(f, encoding='latin1')\n",
        "    training_data = np.empty([50000, 3072], dtype=np.float64)\n",
        "    training_labels = np.empty([50000], dtype=np.uint8)\n",
        "    for i in range(1, 6):\n",
        "        start = (i - 1) * 10000\n",
        "        end = i * 10000\n",
        "        training_data[start:end], training_labels[start:end] = \\\n",
        "            load_cifar_batch(os.path.join(folder, 'data_batch_%d' % i))\n",
        "    testing_data, testing_labels = load_cifar_batch(os.path.join(folder, 'test_batch'))\n",
        "    training_data_grayscale = training_data.reshape((50000, 3, 1024)).transpose((0, 2, 1))\n",
        "    training_data_grayscale = np.mean(training_data_grayscale, axis=2)\n",
        "    testing_data_grayscale = testing_data.reshape((10000, 3, 1024)).transpose((0, 2, 1))\n",
        "    testing_data_grayscale = np.mean(testing_data_grayscale, axis=2)\n",
        "    print(\"loading done\")\n",
        "    return training_data, training_data_grayscale, training_labels, testing_data, testing_data_grayscale,\\\n",
        "        testing_labels, names['label_names']\n",
        "\n",
        "\n",
        "# Load part of cifar for cross validation\n",
        "def load_cifar_cross_validation(folder, i):\n",
        "    td = np.empty([40000, 3072], dtype=np.float64)\n",
        "    tl = np.empty([40000], dtype=np.uint8)\n",
        "    for j in range(1, 6):\n",
        "        if i != j:\n",
        "            if j < i:\n",
        "                diff = 1\n",
        "            else:\n",
        "                diff = 2\n",
        "            start = (j - diff) * 10000\n",
        "            end = (j - diff + 1) * 10000\n",
        "            td[start:end, :], tl[start:end] = \\\n",
        "                load_cifar_batch(os.path.join(folder, 'data_batch_%d' % j))\n",
        "    vd, vl = load_cifar_batch(os.path.join(folder, 'data_batch_%d' % i))\n",
        "    return td, tl, vd, vl"
      ],
      "execution_count": 0,
      "outputs": []
    },
    {
      "metadata": {
        "id": "_NCCYOsjsKq9",
        "colab_type": "code",
        "colab": {
          "base_uri": "https://localhost:8080/",
          "height": 217
        },
        "outputId": "c243b0b4-e1ce-4cb0-80f2-5e055b538492"
      },
      "cell_type": "code",
      "source": [
        "!wget https://www.cs.toronto.edu/~kriz/cifar-10-python.tar.gz"
      ],
      "execution_count": 3,
      "outputs": [
        {
          "output_type": "stream",
          "text": [
            "--2018-08-18 06:56:08--  https://www.cs.toronto.edu/~kriz/cifar-10-python.tar.gz\r\n",
            "Resolving www.cs.toronto.edu (www.cs.toronto.edu)... 128.100.3.30\n",
            "Connecting to www.cs.toronto.edu (www.cs.toronto.edu)|128.100.3.30|:443... connected.\n",
            "HTTP request sent, awaiting response... 200 OK\n",
            "Length: 170498071 (163M) [application/x-gzip]\n",
            "Saving to: ‘cifar-10-python.tar.gz.6’\n",
            "\n",
            "cifar-10-python.tar 100%[===================>] 162.60M  2.72MB/s    in 89s     \n",
            "\n",
            "2018-08-18 06:57:37 (1.83 MB/s) - ‘cifar-10-python.tar.gz.6’ saved [170498071/170498071]\n",
            "\n"
          ],
          "name": "stdout"
        }
      ]
    },
    {
      "metadata": {
        "id": "d7CdhalNsQ1U",
        "colab_type": "code",
        "colab": {
          "base_uri": "https://localhost:8080/",
          "height": 181
        },
        "outputId": "4824b8dd-6e39-4b0c-e511-595b112c20c3"
      },
      "cell_type": "code",
      "source": [
        "!tar -xvzf cifar-10-python.tar.gz"
      ],
      "execution_count": 4,
      "outputs": [
        {
          "output_type": "stream",
          "text": [
            "cifar-10-batches-py/\r\n",
            "cifar-10-batches-py/data_batch_4\n",
            "cifar-10-batches-py/readme.html\n",
            "cifar-10-batches-py/test_batch\n",
            "cifar-10-batches-py/data_batch_3\n",
            "cifar-10-batches-py/batches.meta\n",
            "cifar-10-batches-py/data_batch_2\n",
            "cifar-10-batches-py/data_batch_5\n",
            "cifar-10-batches-py/data_batch_1\n"
          ],
          "name": "stdout"
        }
      ]
    },
    {
      "metadata": {
        "id": "gP-fj7H_riYP",
        "colab_type": "code",
        "colab": {}
      },
      "cell_type": "code",
      "source": [
        "import scipy.spatial.distance as sp\n",
        "\n",
        "\n",
        "class KNN(object):\n",
        "\n",
        "    def __init__(self):\n",
        "        pass\n",
        "\n",
        "    def train(self, data, labels):\n",
        "        # data is N x D where each row is a data point. labels is 1-dimension of size N\n",
        "        # KNN classifier simply remembers all the training data\n",
        "        print(\"Insie train\")\n",
        "        self.training_data = data\n",
        "        self.training_labels = labels\n",
        "\n",
        "    def predict(self, data, k, l):\n",
        "        # data is M x D where each row is a data point, k is the number of nearest neighbours, l  is the distance metric ('L1' or 'L2')\n",
        "        # y_predict is the predicted labels of data\n",
        "        y_predict = np.zeros(data.shape[0], dtype=self.training_labels.dtype)\n",
        "        print(\"Inside predict\")\n",
        "        if l == 'L1':\n",
        "            self.l1(data, k, y_predict)\n",
        "        else:\n",
        "            self.l2(data, k, y_predict)\n",
        "        return y_predict\n",
        "\n",
        "    def l1(self, data, k, y_pred):\n",
        "        # data is M x D where each row is a data point, k is the number of nearest neighbours, y_pred is the predicted labels of data\n",
        "        # Compute Manhattan distance, distances is M x N where each row 'i' is the distances of the ith data point from the training data points\n",
        "        print(\"Inside l1\")\n",
        "        distances = sp.cdist(data, self.training_data, 'cityblock')\n",
        "        print(\"Calculating L1\")\n",
        "        for i in range(data.shape[0]):\n",
        "            # Get ith row of distances\n",
        "            curr_distance = distances[i]\n",
        "            # Get the k indexes corresponding to the lowest distances\n",
        "            min_idx = np.argpartition(curr_distance, k)[0:k]\n",
        "            # Get the votes\n",
        "            votes = self.training_labels[min_idx]\n",
        "            # Count the votes\n",
        "            labels_count = np.bincount(votes)\n",
        "            # Choose the majority vote\n",
        "            y_pred[i] = np.argmax(labels_count)\n",
        "\n",
        "    def l2(self, data, k, y_pred):\n",
        "        # data is M x D where each row is a data point, k is the number of nearest neighbours, y_pred is the predicted labels of data\n",
        "        # (a + b)^2 = a^2 + b^2 - 2ab\n",
        "        print(\"Inside l2\")\n",
        "        a_sum_square = np.sum(np.square(self.training_data), axis=1)\n",
        "        print(\"Calculated a_sum\")\n",
        "        b_sum_square = np.sum(np.square(data), axis=1)\n",
        "        print(\"Calculated b_sum\")\n",
        "        two_a_dot_bt = 2 * np.dot(self.training_data, data.T)\n",
        "        print(\"Calculated dot\")\n",
        "        # Compute Euclidean distance, distances is N x M where each column 'i' is the distances of the ith data point from the training data points\n",
        "        distances = np.sqrt(a_sum_square[:, np.newaxis] + b_sum_square - two_a_dot_bt)\n",
        "        for i in range(data.shape[0]):\n",
        "            # Get ith column of distances and continue operations on it as normal (get lowest k)\n",
        "            curr_distance = distances[:, i]\n",
        "            # Get the k indexes corresponding to the lowest distances\n",
        "            min_idx = np.argpartition(curr_distance, k)[0:k]\n",
        "            # Get the votes\n",
        "            votes = self.training_labels[min_idx]\n",
        "            # Count the votes\n",
        "            labels_count = np.bincount(votes)\n",
        "            # Choose the majority vote\n",
        "            y_pred[i] = np.argmax(labels_count)\n",
        "        print(\"L2 calculated\")"
      ],
      "execution_count": 0,
      "outputs": []
    },
    {
      "metadata": {
        "id": "6E7xcDt-rp8A",
        "colab_type": "code",
        "colab": {}
      },
      "cell_type": "code",
      "source": [
        "import matplotlib.pyplot as plt"
      ],
      "execution_count": 0,
      "outputs": []
    },
    {
      "metadata": {
        "id": "sFEItChlryh1",
        "colab_type": "code",
        "colab": {}
      },
      "cell_type": "code",
      "source": [
        "%matplotlib inline\n",
        "%load_ext autoreload\n",
        "%autoreload 2"
      ],
      "execution_count": 0,
      "outputs": []
    },
    {
      "metadata": {
        "id": "t5LNZQYDr4J8",
        "colab_type": "code",
        "colab": {}
      },
      "cell_type": "code",
      "source": [
        "def plot(accuracy_per_class, accuracy, color, names):\n",
        "    print(\"Plotting\")\n",
        "    ind = np.arange(10)\n",
        "    width = 0.5\n",
        "    fig, ax = plt.subplots()\n",
        "    rects = ax.bar(ind, accuracy_per_class, width, color='b')\n",
        "    ax.set_ylabel('Accuracy')\n",
        "    ax.set_title('KNN on %s CIFAR-10 accuracy per class, average accuracy = %f' % (color, accuracy))\n",
        "    ax.set_xticks(ind)\n",
        "    ax.set_xticklabels(names, rotation='vertical')\n",
        "    plt.show()"
      ],
      "execution_count": 0,
      "outputs": []
    },
    {
      "metadata": {
        "id": "W25TSBbnr897",
        "colab_type": "code",
        "colab": {}
      },
      "cell_type": "code",
      "source": [
        "def get_accuracy(predict, yte):\n",
        "    print(\"Inside accuracy\")\n",
        "    accuracy_per_class = [0.] * 10\n",
        "    for i in range(predict.shape[0]):\n",
        "        if predict[i] == yte[i]:\n",
        "            accuracy_per_class[yte[i]] += 1.\n",
        "    for i in range(10):\n",
        "        accuracy_per_class[i] /= 1000\n",
        "    accuracy = np.sum(predict == yte) / 10000\n",
        "    return accuracy_per_class, accuracy"
      ],
      "execution_count": 0,
      "outputs": []
    },
    {
      "metadata": {
        "id": "mhQ-jmuYsAyH",
        "colab_type": "code",
        "colab": {}
      },
      "cell_type": "code",
      "source": [
        "def train_and_predict(xtr, ytr, xte, yte, k, l, color, names):\n",
        "    print(\"Process started\")\n",
        "    knn_o = KNN()\n",
        "    knn_o.train(xtr, ytr)\n",
        "    predict = knn_o.predict(xte, k, l)\n",
        "    accuracy_per_class, accuracy = get_accuracy(predict, yte)\n",
        "    plot(accuracy_per_class, accuracy, color, names)"
      ],
      "execution_count": 0,
      "outputs": []
    },
    {
      "metadata": {
        "id": "WT8JW8wBsCys",
        "colab_type": "code",
        "colab": {
          "base_uri": "https://localhost:8080/",
          "height": 537
        },
        "outputId": "e0018a94-39ed-491b-c800-5b1aaf0f251f"
      },
      "cell_type": "code",
      "source": [
        "xtr, xgtr, ytr, xte, xgte, yte, names = load_cifar('cifar-10-batches-py')\n",
        "xtr=xtr[:20000]\n",
        "ytr=ytr[:20000]\n",
        "xte=xte[:10000]\n",
        "yte=yte[:10000]\n",
        "# best_k and best_l from cross-validation are k=1 and L1\n",
        "best_k = 1\n",
        "best_l = 'L2'\n",
        "train_and_predict(xtr, ytr, xte, yte, best_k, best_l, 'colored', names)\n",
        "#train_and_predict(xgtr, ytr, xgte, yte, best_k, best_l, 'grayscale', names)"
      ],
      "execution_count": 18,
      "outputs": [
        {
          "output_type": "stream",
          "text": [
            "loading started\n",
            "loading done\n",
            "Process started\n",
            "Insie train\n",
            "Inside predict\n",
            "Inside l2\n",
            "Calculated a_sum\n",
            "Calculated b_sum\n",
            "Calculated dot\n",
            "L2 calculated\n",
            "Inside accuracy\n",
            "Plotting\n"
          ],
          "name": "stdout"
        },
        {
          "output_type": "display_data",
          "data": {
            "image/png": "[encoded data removed]",
            "text/plain": [
              "<matplotlib.figure.Figure at 0x7f7b44c21da0>"
            ]
          },
          "metadata": {
            "tags": []
          }
        }
      ]
    },
    {
      "metadata": {
        "id": "HFpyykKHsFNn",
        "colab_type": "code",
        "colab": {}
      },
      "cell_type": "code",
      "source": [
        ""
      ],
      "execution_count": 0,
      "outputs": []
    }
  ]
}